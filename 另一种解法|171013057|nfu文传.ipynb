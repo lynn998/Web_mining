{
 "cells": [
  {
   "cell_type": "code",
   "execution_count": 82,
   "metadata": {},
   "outputs": [
    {
     "name": "stdout",
     "output_type": "stream",
     "text": [
      "[['文学与传媒学院教师获邀参加2020年U40中澳暑期工作营及国际学术研讨会', '/index.php/home/article/search_detail/id/6363.html', '2020-01-06'], ['文学与传媒学院2019年学术研讨会暨总结大会顺利召开', '/index.php/home/article/search_detail/id/6366.html', '2020-01-06'], ['展现当代青年的迷惘与奋进——我校文学与传媒学院大型原创舞台剧《春至》圆满落幕', '/index.php/home/article/search_detail/id/6318.html', '2019-12-20'], ['文学与传媒学院考研座谈暨2020年考研交流答疑会圆满结束', '/index.php/home/article/search_detail/id/6154.html', '2019-11-22'], ['文学与传媒学院教师招聘启事', '/index.php/home/article/search_detail/id/5348.html', '2019-11-05'], ['创意无限，未来可期——文学与传媒学院青马工程第四讲暨闭营仪式顺利举行', '/index.php/home/article/search_detail/id/6016.html', '2019-11-04'], ['垃圾分类我先行——文学与传媒学院“分门别类，谁与争锋”垃圾分类趣味知识竞赛决赛顺利举行', '/index.php/home/article/search_detail/id/6019.html', '2019-11-04'], ['以梦为马，不负韶华——文学与传媒学院2019级新生开学典礼圆满结束', '/index.php/home/article/search_detail/id/5794.html', '2019-09-16'], ['文学与传媒学院学子在全国高校数字艺术设计大赛中斩获大奖', '/index.php/home/article/search_detail/id/5776.html', '2019-09-09'], ['文学与传媒学院学子在第七届中国大学生公共关系策划大赛中喜获佳绩', '/index.php/home/article/search_detail/id/5777.html', '2019-09-09'], ['倾心之作，致敬经典——文学与传媒学院紫阳戏剧社《倾城之恋》话剧展演圆满落幕', '/index.php/home/article/search_detail/id/5642.html', '2019-06-24'], ['毕业季 | 今朝有离别，青春不散场 ——文学与传媒学院2019届毕业生毕业季系列活动有序开展', '/index.php/home/article/search_detail/id/5647.html', '2019-06-24'], ['对话校友，嘉木成林——文学与传媒学院校友访谈会顺利举办', '/index.php/home/article/search_detail/id/5648.html', '2019-06-24'], ['观一代文豪，品苏诗之美——从化区作协主席刘尚阳先生来文学与传媒学院讲学', '/index.php/home/article/search_detail/id/5625.html', '2019-06-20'], ['墨香淡淡，“书”途同归——文学与传媒学院旧书捐赠活动顺利开展', '/index.php/home/article/search_detail/id/5632.html', '2019-06-20'], ['大咖行于市井，定格烟火光影——羊晚高级记者叶健强先生来文学与传媒学院精讲新闻摄影', '/index.php/home/article/search_detail/id/5614.html', '2019-06-19'], ['文学与传媒学院第三届“南方·世新”两岸两校毕业联展暨交流会顺利举行', '/index.php/home/article/search_detail/id/5584.html', '2019-06-13'], ['传播天下 “媒”梦有你——文学与传媒学院学生优秀作品展开幕式顺利举行', '/index.php/home/article/search_detail/id/5523.html', '2019-05-30'], ['不忘初心，勇攀高峰——文学与传媒学院团总支以第一名成绩喜提学校“优秀团委（团总支）”称号', '/index.php/home/article/search_detail/id/5508.html', '2019-05-27'], ['传道授业，提疑解惑——文学与传媒学院期中座谈会新闻学与网络与新媒体专场顺利召开', '/index.php/home/article/search_detail/id/5509.html', '2019-05-27'], ['文学与传媒学院团学团队参加我校校园文化艺术节闭幕式暨文艺汇演', '/index.php/home/article/search_detail/id/5511.html', '2019-05-27'], ['文学与传媒学院学生作品在南粤校园中华经典诵读文化艺术节中荣获大学组一等奖', '/index.php/home/article/search_detail/id/5500.html', '2019-05-24'], ['赛出实力，教出风采——文学与传媒学院第六届教师教学竞赛顺利举行', '/index.php/home/article/search_detail/id/5455.html', '2019-05-17'], ['文学与传媒学院首届“传播天下，‘媒’梦有你”专业文化活动月开幕式暨第十届最强讲师决赛圆满结束', '/index.php/home/article/search_detail/id/5456.html', '2019-05-17'], ['师生互动，解惑答疑——文学与传媒学院期中座谈会汉语言文学专场顺利召开', '/index.php/home/article/search_detail/id/5438.html', '2019-05-15'], ['“五四”精神，百年传承 ——文学与传媒学院“五四红旗团支部评选大会”顺利举行', '/index.php/home/article/search_detail/id/5400.html', '2019-05-10'], ['筑梦青春，唱出心声——文学与传媒学院风雅合唱团在我校合唱展演中荣获第一名', '/index.php/home/article/search_detail/id/5401.html', '2019-05-10'], ['衣冠云集，风韵犹存——文学与传媒学院“励能学堂”第二课顺利开展', '/index.php/home/article/search_detail/id/5402.html', '2019-05-10'], ['拼搏奋斗，不负韶华——文学与传媒学院开展“纪念五四运动100周年大会”主题学习活动暨青马工程公开课', '/index.php/home/article/search_detail/id/5392.html', '2019-05-07'], ['博学多思，“研”续精彩——文学与传媒学院考研座谈会暨考研经验系列分享会继续开展', '/index.php/home/article/search_detail/id/5342.html', '2019-04-28'], ['活力宿舍，魅力青春——文学与传媒学院宿舍文化节顺利举行', '/index.php/home/article/search_detail/id/5317.html', '2019-04-23'], ['文学与传媒学院中国语言文学专业专场考研座谈顺利举行', '/index.php/home/article/search_detail/id/5306.html', '2019-04-22'], ['“研”途有你，踌躇满志——文学与传媒学院考研座谈暨考研经验系列分享会顺利开展', '/index.php/home/article/search_detail/id/5293.html', '2019-04-18'], ['史以文观，美以服饰——文学与传媒学院励能学堂顺利开讲', '/index.php/home/article/search_detail/id/5278.html', '2019-04-16'], ['锲而不舍，攀蟾折桂—-文学与传媒学院学子在2019年研究生入学考试中捷报频传', '/index.php/home/article/search_detail/id/5225.html', '2019-04-08'], ['风雅吟唱，静候知音——文学与传媒学院风雅合唱团成立大会顺利召开', '/index.php/home/article/search_detail/id/5192.html', '2019-04-01'], ['才思明辩，口若悬河——文学与传媒学院第十二届班际辩论赛开幕式暨表演赛顺利举办', '/index.php/home/article/search_detail/id/5193.html', '2019-04-01'], ['文学与传媒学院学子在2018年“新时代 新作为——立志·修身·博学·报国”主题教育系列活动中荣获三等奖', '/index.php/home/article/search_detail/id/5194.html', '2019-04-01'], ['文传精英，敢闯敢拼——文学与传媒学院团学素质拓展活动圆满结束', '/index.php/home/article/search_detail/id/5175.html', '2019-03-26'], ['文学与传媒学院郑梓轩、郭子怿同学在从化区大学生气象科普演讲大赛中荣获佳绩', '/index.php/home/article/search_detail/id/5153.html', '2019-03-25'], ['天道酬勤，以篮之名——文学与传媒学院第十二届“青出于篮”各专业篮球竞赛开幕', '/index.php/home/article/search_detail/id/5139.html', '2019-03-22'], ['漫谈“时代”，品味“人生”——文学与传媒学院“院长第一堂思想政治理论课”顺利开展', '/index.php/home/article/search_detail/id/5112.html', '2019-03-15'], ['展望未来,再创辉煌——文学与传媒学院召开2018-2019学年第2学期全体教职工会议', '/index.php/home/article/search_detail/id/5099.html', '2019-03-08'], ['一元复始，万象更新——文学与传媒学院新学期学生工作有序推进', '/index.php/home/article/search_detail/id/5079.html', '2019-03-04'], ['学术如玉，如琢如磨——文学与传媒学院2018年学术研讨会顺利召开', '/index.php/home/article/search_detail/id/5036.html', '2019-01-11'], ['文学与传媒学院师生获邀参加南都智库型媒体发展高峰论坛', '/index.php/home/article/search_detail/id/4997.html', '2019-01-02'], ['文学与传媒学院师生前往羊城创意产业园参观学习交流', '/index.php/home/article/search_detail/id/4998.html', '2019-01-02'], ['唇枪舌战，友好沟通——文学与传媒学院悬河辩论队与中大辩论队开展交流会', '/index.php/home/article/search_detail/id/4930.html', '2018-12-11'], ['开拓视野，融会贯通——文学与传媒学院学术报告型公选课顺利举办', '/index.php/home/article/search_detail/id/4821.html', '2018-11-21'], ['集思广益 、共创未来——文学与传媒学院2018-2019年第一学期听课研讨会顺利举行', '/index.php/home/article/search_detail/id/4796.html', '2018-11-15'], ['沟通造就可能——文学与传媒学院青马工程之方糖计划暨闭营仪式顺利举行', '/index.php/home/article/search_detail/id/4766.html', '2018-11-12'], ['阅读伴我成长，习惯为我助力 ——文学与传媒学院青马工程第三讲顺利开展', '/index.php/home/article/search_detail/id/4724.html', '2018-11-05'], ['烈日下的青春进行曲——2018年文学与传媒学院体育嘉年华圆满举行', '/index.php/home/article/search_detail/id/4691.html', '2018-10-29'], ['我校文学与传媒学院杨啸与施若菡同学在从化区青年诗歌朗诵大赛中获奖', '/index.php/home/article/search_detail/id/4401.html', '2018-05-30'], ['我校文学与传媒学院杨啸与施若菡同学在从化区青年诗歌朗诵大赛中获奖', '/index.php/home/article/search_detail/id/4080.html', '2018-05-30'], ['“戏子无情实有情”——文学与传媒学院紫阳戏剧社校友座谈会顺利举行', '/index.php/home/article/search_detail/id/3568.html', '2017-12-01'], ['独立自主，追求不止——文学与传媒学院国家励志奖学金获得者张艳妹专访', '/index.php/home/article/search_detail/id/3550.html', '2017-11-28'], ['文学与传媒学院辅导员肖君主笔论文荣获首届广东省民办高校学生工作研讨会论文组优秀奖', '/index.php/home/article/search_detail/id/4478.html', '2017-11-27'], ['文学与传媒学院新媒体研究中心系列活动取得良好反响', '/index.php/home/article/search_detail/id/3540.html', '2017-11-27'], ['文学与传媒学院辅导员肖君主笔论文荣获首届广东省民办高校学生工作研讨会论文组优秀奖', '/index.php/home/article/search_detail/id/3541.html', '2017-11-27'], ['文学与传媒学院召开期中教学师生座谈会', '/index.php/home/article/search_detail/id/3544.html', '2017-11-27'], ['文学与传媒学院师生合作论文获广东省社会科学学术年会中山分会暨中山市社科学术年会二等奖', '/index.php/home/article/search_detail/id/4483.html', '2017-11-20'], ['文学与传媒学院师生合作论文获广东省社会科学学术年会中山分会暨中山市社科学术年会二等奖', '/index.php/home/article/search_detail/id/3521.html', '2017-11-20'], ['文学与传媒学院举行新入职教师培训座谈会', '/index.php/home/article/search_detail/id/3513.html', '2017-11-16'], ['“不卑不亢，不慌不忙” ——文学与传媒学院国家奖学金获得者谢旖纳专访', '/index.php/home/article/search_detail/id/3489.html', '2017-11-10'], ['文学与传媒学院中美双学位南方学院官方合作项目分享会顺利开展', '/index.php/home/article/search_detail/id/3491.html', '2017-11-10'], ['强师生体质，展运动佳风——文学与传媒学院第五届体育嘉年华圆满落幕', '/index.php/home/article/search_detail/id/3368.html', '2017-10-31'], ['文学与传媒学院党团组织认真学习十九大精神', '/index.php/home/article/search_detail/id/3348.html', '2017-10-27'], ['扬文传之风，承社团之美——文学与传媒学院八大学生专业实践团队动员大会圆满结束', '/index.php/home/article/search_detail/id/3351.html', '2017-10-27'], ['“重新出发 迈向新时代”——文学与传媒学院成立大会隆重召开', '/index.php/home/article/search_detail/id/3343.html', '2017-10-26'], ['新征程新起航——文学与传媒学院团学动员大会顺利举行', '/index.php/home/article/search_detail/id/3324.html', '2017-10-20'], ['文学与传媒学院2017级新生开学典礼圆满结束', '/index.php/home/article/search_detail/id/3231.html', '2017-09-15'], ['文学与传媒学院与澳新资讯科技有限公司产学研究合作协议签约仪式暨文学与传媒学院新媒体实验室揭牌仪式顺利举行', '/index.php/home/article/search_detail/id/3218.html', '2017-09-13'], ['喜讯： 文学与传媒学院学生在15届中国大学生广告艺术节学院奖盛典中斩获银奖', '/index.php/home/article/search_detail/id/4538.html', '2017-09-12'], ['喜讯： 文学与传媒学院学生在15届中国大学生广告艺术节学院奖盛典中斩获银奖', '/index.php/home/article/search_detail/id/3216.html', '2017-09-12'], ['关于成立文学与传媒学院的通知', '/index.php/home/article/search_detail/id/3198.html', '2017-09-08']]\n"
     ]
    }
   ],
   "source": [
    "# 导入库\n",
    "import requests\n",
    "from bs4 import BeautifulSoup\n",
    "import sqlite3\n",
    "\n",
    " \n",
    " # 发出请求并获得HTML源码的函数\n",
    "def get_html(url):\n",
    "    headers = {'User-Agent':'Mozilla/5.0 (Windows NT 6.1; Win64; x64) AppleWebKit/537.36 (KHTML, like Gecko) Chrome/58.0.3029.110 Safari/537.36'}   # 伪装成浏览器访问\n",
    "    resp = requests.get(url, headers=headers).text \n",
    "    return resp\n",
    "\n",
    "\n",
    "# 获得所有页面的函数\n",
    "def all_page():\n",
    "    base_url = 'http://www.nfu.edu.cn/index.php/home/article/search/keyword/%E6%96%87%E5%AD%A6%E4%B8%8E%E4%BC%A0%E5%AA%92%E5%AD%A6%E9%99%A2/p/'\n",
    "    urllist = []\n",
    "    html='.html'\n",
    "    for page in range(1, 8):      # range()\n",
    "        allurl = base_url + str(page)+html\n",
    "        urllist.append(allurl)          # 将所有页面地址存入urllist列表\n",
    "    return  urllist\n",
    "def html_parse():\n",
    "    # 调用all_page()函数，for循环迭代出所有页面\n",
    "    book_list=[]\n",
    "    for url in all_page():\n",
    "#        book=[]\n",
    "        # 利用BeautifulSoup进行解析\n",
    "        soup = BeautifulSoup(get_html(url), 'lxml')\n",
    "        # 获取每本书全部信息所在的元素\n",
    "        div = soup.find('ul',  class_='list-ul')    # 检查网页，发现所有书籍信息都在<ul class_='list-ul'>区域\n",
    "        all_table = div.find_all('li')           # \n",
    "        for table in all_table:\n",
    "            book=[]\n",
    "            # 书名\n",
    "            name = table.find('div', class_='news_title').find('a')['title']   # 名\n",
    "            book.append(str(name))       \n",
    "            link = table.find('div', class_='news_title').find('a')['href'] #链接\n",
    "            book.append(str(link))     \n",
    "            times = table.find('font', class_='right-more').get_text() #时间\n",
    "            book.append(str(times))     \n",
    "\n",
    "\n",
    "            book_list.append(book)        \n",
    "\n",
    "    return book_list\n",
    "html_parse1=html_parse()\n",
    "print(html_parse1)"
   ]
  },
  {
   "cell_type": "code",
   "execution_count": 84,
   "metadata": {},
   "outputs": [
    {
     "name": "stdout",
     "output_type": "stream",
     "text": [
      "[['文学与传媒学院教师获邀参加2020年U40中澳暑期工作营及国际学术研讨会', '/index.php/home/article/search_detail/id/6363.html', '2020-01-06'], ['文学与传媒学院2019年学术研讨会暨总结大会顺利召开', '/index.php/home/article/search_detail/id/6366.html', '2020-01-06'], ['展现当代青年的迷惘与奋进——我校文学与传媒学院大型原创舞台剧《春至》圆满落幕', '/index.php/home/article/search_detail/id/6318.html', '2019-12-20'], ['文学与传媒学院考研座谈暨2020年考研交流答疑会圆满结束', '/index.php/home/article/search_detail/id/6154.html', '2019-11-22'], ['文学与传媒学院教师招聘启事', '/index.php/home/article/search_detail/id/5348.html', '2019-11-05'], ['创意无限，未来可期——文学与传媒学院青马工程第四讲暨闭营仪式顺利举行', '/index.php/home/article/search_detail/id/6016.html', '2019-11-04'], ['垃圾分类我先行——文学与传媒学院“分门别类，谁与争锋”垃圾分类趣味知识竞赛决赛顺利举行', '/index.php/home/article/search_detail/id/6019.html', '2019-11-04'], ['以梦为马，不负韶华——文学与传媒学院2019级新生开学典礼圆满结束', '/index.php/home/article/search_detail/id/5794.html', '2019-09-16'], ['文学与传媒学院学子在全国高校数字艺术设计大赛中斩获大奖', '/index.php/home/article/search_detail/id/5776.html', '2019-09-09'], ['文学与传媒学院学子在第七届中国大学生公共关系策划大赛中喜获佳绩', '/index.php/home/article/search_detail/id/5777.html', '2019-09-09'], ['倾心之作，致敬经典——文学与传媒学院紫阳戏剧社《倾城之恋》话剧展演圆满落幕', '/index.php/home/article/search_detail/id/5642.html', '2019-06-24'], ['毕业季 | 今朝有离别，青春不散场 ——文学与传媒学院2019届毕业生毕业季系列活动有序开展', '/index.php/home/article/search_detail/id/5647.html', '2019-06-24'], ['对话校友，嘉木成林——文学与传媒学院校友访谈会顺利举办', '/index.php/home/article/search_detail/id/5648.html', '2019-06-24'], ['观一代文豪，品苏诗之美——从化区作协主席刘尚阳先生来文学与传媒学院讲学', '/index.php/home/article/search_detail/id/5625.html', '2019-06-20'], ['墨香淡淡，“书”途同归——文学与传媒学院旧书捐赠活动顺利开展', '/index.php/home/article/search_detail/id/5632.html', '2019-06-20'], ['大咖行于市井，定格烟火光影——羊晚高级记者叶健强先生来文学与传媒学院精讲新闻摄影', '/index.php/home/article/search_detail/id/5614.html', '2019-06-19'], ['文学与传媒学院第三届“南方·世新”两岸两校毕业联展暨交流会顺利举行', '/index.php/home/article/search_detail/id/5584.html', '2019-06-13'], ['传播天下 “媒”梦有你——文学与传媒学院学生优秀作品展开幕式顺利举行', '/index.php/home/article/search_detail/id/5523.html', '2019-05-30'], ['不忘初心，勇攀高峰——文学与传媒学院团总支以第一名成绩喜提学校“优秀团委（团总支）”称号', '/index.php/home/article/search_detail/id/5508.html', '2019-05-27'], ['传道授业，提疑解惑——文学与传媒学院期中座谈会新闻学与网络与新媒体专场顺利召开', '/index.php/home/article/search_detail/id/5509.html', '2019-05-27'], ['文学与传媒学院团学团队参加我校校园文化艺术节闭幕式暨文艺汇演', '/index.php/home/article/search_detail/id/5511.html', '2019-05-27'], ['文学与传媒学院学生作品在南粤校园中华经典诵读文化艺术节中荣获大学组一等奖', '/index.php/home/article/search_detail/id/5500.html', '2019-05-24'], ['赛出实力，教出风采——文学与传媒学院第六届教师教学竞赛顺利举行', '/index.php/home/article/search_detail/id/5455.html', '2019-05-17'], ['文学与传媒学院首届“传播天下，‘媒’梦有你”专业文化活动月开幕式暨第十届最强讲师决赛圆满结束', '/index.php/home/article/search_detail/id/5456.html', '2019-05-17'], ['师生互动，解惑答疑——文学与传媒学院期中座谈会汉语言文学专场顺利召开', '/index.php/home/article/search_detail/id/5438.html', '2019-05-15'], ['“五四”精神，百年传承 ——文学与传媒学院“五四红旗团支部评选大会”顺利举行', '/index.php/home/article/search_detail/id/5400.html', '2019-05-10'], ['筑梦青春，唱出心声——文学与传媒学院风雅合唱团在我校合唱展演中荣获第一名', '/index.php/home/article/search_detail/id/5401.html', '2019-05-10'], ['衣冠云集，风韵犹存——文学与传媒学院“励能学堂”第二课顺利开展', '/index.php/home/article/search_detail/id/5402.html', '2019-05-10'], ['拼搏奋斗，不负韶华——文学与传媒学院开展“纪念五四运动100周年大会”主题学习活动暨青马工程公开课', '/index.php/home/article/search_detail/id/5392.html', '2019-05-07'], ['博学多思，“研”续精彩——文学与传媒学院考研座谈会暨考研经验系列分享会继续开展', '/index.php/home/article/search_detail/id/5342.html', '2019-04-28'], ['活力宿舍，魅力青春——文学与传媒学院宿舍文化节顺利举行', '/index.php/home/article/search_detail/id/5317.html', '2019-04-23'], ['文学与传媒学院中国语言文学专业专场考研座谈顺利举行', '/index.php/home/article/search_detail/id/5306.html', '2019-04-22'], ['“研”途有你，踌躇满志——文学与传媒学院考研座谈暨考研经验系列分享会顺利开展', '/index.php/home/article/search_detail/id/5293.html', '2019-04-18'], ['史以文观，美以服饰——文学与传媒学院励能学堂顺利开讲', '/index.php/home/article/search_detail/id/5278.html', '2019-04-16'], ['锲而不舍，攀蟾折桂—-文学与传媒学院学子在2019年研究生入学考试中捷报频传', '/index.php/home/article/search_detail/id/5225.html', '2019-04-08'], ['风雅吟唱，静候知音——文学与传媒学院风雅合唱团成立大会顺利召开', '/index.php/home/article/search_detail/id/5192.html', '2019-04-01'], ['才思明辩，口若悬河——文学与传媒学院第十二届班际辩论赛开幕式暨表演赛顺利举办', '/index.php/home/article/search_detail/id/5193.html', '2019-04-01'], ['文学与传媒学院学子在2018年“新时代 新作为——立志·修身·博学·报国”主题教育系列活动中荣获三等奖', '/index.php/home/article/search_detail/id/5194.html', '2019-04-01'], ['文传精英，敢闯敢拼——文学与传媒学院团学素质拓展活动圆满结束', '/index.php/home/article/search_detail/id/5175.html', '2019-03-26'], ['文学与传媒学院郑梓轩、郭子怿同学在从化区大学生气象科普演讲大赛中荣获佳绩', '/index.php/home/article/search_detail/id/5153.html', '2019-03-25'], ['天道酬勤，以篮之名——文学与传媒学院第十二届“青出于篮”各专业篮球竞赛开幕', '/index.php/home/article/search_detail/id/5139.html', '2019-03-22'], ['漫谈“时代”，品味“人生”——文学与传媒学院“院长第一堂思想政治理论课”顺利开展', '/index.php/home/article/search_detail/id/5112.html', '2019-03-15'], ['展望未来,再创辉煌——文学与传媒学院召开2018-2019学年第2学期全体教职工会议', '/index.php/home/article/search_detail/id/5099.html', '2019-03-08'], ['一元复始，万象更新——文学与传媒学院新学期学生工作有序推进', '/index.php/home/article/search_detail/id/5079.html', '2019-03-04'], ['学术如玉，如琢如磨——文学与传媒学院2018年学术研讨会顺利召开', '/index.php/home/article/search_detail/id/5036.html', '2019-01-11'], ['文学与传媒学院师生获邀参加南都智库型媒体发展高峰论坛', '/index.php/home/article/search_detail/id/4997.html', '2019-01-02'], ['文学与传媒学院师生前往羊城创意产业园参观学习交流', '/index.php/home/article/search_detail/id/4998.html', '2019-01-02'], ['唇枪舌战，友好沟通——文学与传媒学院悬河辩论队与中大辩论队开展交流会', '/index.php/home/article/search_detail/id/4930.html', '2018-12-11'], ['开拓视野，融会贯通——文学与传媒学院学术报告型公选课顺利举办', '/index.php/home/article/search_detail/id/4821.html', '2018-11-21'], ['集思广益 、共创未来——文学与传媒学院2018-2019年第一学期听课研讨会顺利举行', '/index.php/home/article/search_detail/id/4796.html', '2018-11-15'], ['沟通造就可能——文学与传媒学院青马工程之方糖计划暨闭营仪式顺利举行', '/index.php/home/article/search_detail/id/4766.html', '2018-11-12'], ['阅读伴我成长，习惯为我助力 ——文学与传媒学院青马工程第三讲顺利开展', '/index.php/home/article/search_detail/id/4724.html', '2018-11-05'], ['烈日下的青春进行曲——2018年文学与传媒学院体育嘉年华圆满举行', '/index.php/home/article/search_detail/id/4691.html', '2018-10-29'], ['我校文学与传媒学院杨啸与施若菡同学在从化区青年诗歌朗诵大赛中获奖', '/index.php/home/article/search_detail/id/4401.html', '2018-05-30'], ['我校文学与传媒学院杨啸与施若菡同学在从化区青年诗歌朗诵大赛中获奖', '/index.php/home/article/search_detail/id/4080.html', '2018-05-30'], ['“戏子无情实有情”——文学与传媒学院紫阳戏剧社校友座谈会顺利举行', '/index.php/home/article/search_detail/id/3568.html', '2017-12-01'], ['独立自主，追求不止——文学与传媒学院国家励志奖学金获得者张艳妹专访', '/index.php/home/article/search_detail/id/3550.html', '2017-11-28'], ['文学与传媒学院辅导员肖君主笔论文荣获首届广东省民办高校学生工作研讨会论文组优秀奖', '/index.php/home/article/search_detail/id/4478.html', '2017-11-27'], ['文学与传媒学院新媒体研究中心系列活动取得良好反响', '/index.php/home/article/search_detail/id/3540.html', '2017-11-27'], ['文学与传媒学院辅导员肖君主笔论文荣获首届广东省民办高校学生工作研讨会论文组优秀奖', '/index.php/home/article/search_detail/id/3541.html', '2017-11-27'], ['文学与传媒学院召开期中教学师生座谈会', '/index.php/home/article/search_detail/id/3544.html', '2017-11-27'], ['文学与传媒学院师生合作论文获广东省社会科学学术年会中山分会暨中山市社科学术年会二等奖', '/index.php/home/article/search_detail/id/4483.html', '2017-11-20'], ['文学与传媒学院师生合作论文获广东省社会科学学术年会中山分会暨中山市社科学术年会二等奖', '/index.php/home/article/search_detail/id/3521.html', '2017-11-20'], ['文学与传媒学院举行新入职教师培训座谈会', '/index.php/home/article/search_detail/id/3513.html', '2017-11-16'], ['“不卑不亢，不慌不忙” ——文学与传媒学院国家奖学金获得者谢旖纳专访', '/index.php/home/article/search_detail/id/3489.html', '2017-11-10'], ['文学与传媒学院中美双学位南方学院官方合作项目分享会顺利开展', '/index.php/home/article/search_detail/id/3491.html', '2017-11-10'], ['强师生体质，展运动佳风——文学与传媒学院第五届体育嘉年华圆满落幕', '/index.php/home/article/search_detail/id/3368.html', '2017-10-31'], ['文学与传媒学院党团组织认真学习十九大精神', '/index.php/home/article/search_detail/id/3348.html', '2017-10-27'], ['扬文传之风，承社团之美——文学与传媒学院八大学生专业实践团队动员大会圆满结束', '/index.php/home/article/search_detail/id/3351.html', '2017-10-27'], ['“重新出发 迈向新时代”——文学与传媒学院成立大会隆重召开', '/index.php/home/article/search_detail/id/3343.html', '2017-10-26'], ['新征程新起航——文学与传媒学院团学动员大会顺利举行', '/index.php/home/article/search_detail/id/3324.html', '2017-10-20'], ['文学与传媒学院2017级新生开学典礼圆满结束', '/index.php/home/article/search_detail/id/3231.html', '2017-09-15'], ['文学与传媒学院与澳新资讯科技有限公司产学研究合作协议签约仪式暨文学与传媒学院新媒体实验室揭牌仪式顺利举行', '/index.php/home/article/search_detail/id/3218.html', '2017-09-13'], ['喜讯： 文学与传媒学院学生在15届中国大学生广告艺术节学院奖盛典中斩获银奖', '/index.php/home/article/search_detail/id/4538.html', '2017-09-12'], ['喜讯： 文学与传媒学院学生在15届中国大学生广告艺术节学院奖盛典中斩获银奖', '/index.php/home/article/search_detail/id/3216.html', '2017-09-12'], ['关于成立文学与传媒学院的通知', '/index.php/home/article/search_detail/id/3198.html', '2017-09-08']]\n"
     ]
    },
    {
     "ename": "OperationalError",
     "evalue": "table nfu already exists",
     "output_type": "error",
     "traceback": [
      "\u001b[0;31m---------------------------------------------------------------------------\u001b[0m",
      "\u001b[0;31mOperationalError\u001b[0m                          Traceback (most recent call last)",
      "\u001b[0;32m<ipython-input-84-f4370ddcb622>\u001b[0m in \u001b[0;36m<module>\u001b[0;34m\u001b[0m\n\u001b[1;32m      5\u001b[0m     \u001b[0mcursor\u001b[0m \u001b[0;34m=\u001b[0m \u001b[0mconn\u001b[0m\u001b[0;34m.\u001b[0m\u001b[0mcursor\u001b[0m\u001b[0;34m(\u001b[0m\u001b[0;34m)\u001b[0m\u001b[0;34m\u001b[0m\u001b[0;34m\u001b[0m\u001b[0m\n\u001b[1;32m      6\u001b[0m     cursor.execute('''CREATE TABLE nfu\n\u001b[0;32m----> 7\u001b[0;31m        (name TEXT PRIMARY KEY,link           TEXT,times            TEXT)''')\n\u001b[0m\u001b[1;32m      8\u001b[0m     \u001b[0;32mfor\u001b[0m \u001b[0mnfu\u001b[0m \u001b[0;32min\u001b[0m \u001b[0mbook_list\u001b[0m\u001b[0;34m:\u001b[0m\u001b[0;34m\u001b[0m\u001b[0;34m\u001b[0m\u001b[0m\n\u001b[1;32m      9\u001b[0m         \u001b[0mcursor\u001b[0m\u001b[0;34m.\u001b[0m\u001b[0mexecute\u001b[0m\u001b[0;34m(\u001b[0m\u001b[0;34m'INSERT INTO nfu ( name, link, times) VALUES (?,?,?)'\u001b[0m\u001b[0;34m,\u001b[0m \u001b[0;34m(\u001b[0m\u001b[0mnfu\u001b[0m\u001b[0;34m[\u001b[0m\u001b[0;36m0\u001b[0m\u001b[0;34m]\u001b[0m\u001b[0;34m,\u001b[0m\u001b[0mnfu\u001b[0m\u001b[0;34m[\u001b[0m\u001b[0;36m1\u001b[0m\u001b[0;34m]\u001b[0m\u001b[0;34m,\u001b[0m\u001b[0mnfu\u001b[0m\u001b[0;34m[\u001b[0m\u001b[0;36m2\u001b[0m\u001b[0;34m]\u001b[0m\u001b[0;34m)\u001b[0m\u001b[0;34m)\u001b[0m\u001b[0;34m\u001b[0m\u001b[0;34m\u001b[0m\u001b[0m\n",
      "\u001b[0;31mOperationalError\u001b[0m: table nfu already exists"
     ]
    }
   ],
   "source": [
    "if(__name__ == '__main__'):\n",
    "    book_list=html_parse()\n",
    "    print(book_list)\n",
    "    conn = sqlite3.connect('nfu.db')\n",
    "    cursor = conn.cursor()\n",
    "    cursor.execute('''CREATE TABLE nfu\n",
    "       (name TEXT PRIMARY KEY,link           TEXT,times            TEXT)''')\n",
    "    for nfu in book_list:\n",
    "        cursor.execute('INSERT INTO nfu ( name, link, times) VALUES (?,?,?)', (nfu[0],nfu[1],nfu[2]))\n",
    "        print('done')\n",
    "    conn.commit()\n",
    "    cursor.close()\n",
    "    conn.close()"
   ]
  },
  {
   "cell_type": "code",
   "execution_count": null,
   "metadata": {},
   "outputs": [],
   "source": []
  }
 ],
 "metadata": {
  "kernelspec": {
   "display_name": "Python 3",
   "language": "python",
   "name": "python3"
  },
  "language_info": {
   "codemirror_mode": {
    "name": "ipython",
    "version": 3
   },
   "file_extension": ".py",
   "mimetype": "text/x-python",
   "name": "python",
   "nbconvert_exporter": "python",
   "pygments_lexer": "ipython3",
   "version": "3.7.3"
  }
 },
 "nbformat": 4,
 "nbformat_minor": 2
}
